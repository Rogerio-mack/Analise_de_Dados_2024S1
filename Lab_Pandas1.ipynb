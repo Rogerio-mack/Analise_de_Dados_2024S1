{
  "nbformat": 4,
  "nbformat_minor": 0,
  "metadata": {
    "celltoolbar": "Edit Metadata",
    "colab": {
      "provenance": [],
      "include_colab_link": true
    },
    "kernelspec": {
      "display_name": "Python 3",
      "language": "python",
      "name": "python3"
    },
    "language_info": {
      "codemirror_mode": {
        "name": "ipython",
        "version": 3
      },
      "file_extension": ".py",
      "mimetype": "text/x-python",
      "name": "python",
      "nbconvert_exporter": "python",
      "pygments_lexer": "ipython3",
      "version": "3.6.13"
    }
  },
  "cells": [
    {
      "cell_type": "markdown",
      "metadata": {
        "id": "view-in-github",
        "colab_type": "text"
      },
      "source": [
        "<a href=\"https://colab.research.google.com/github/Rogerio-mack/Analise_de_Dados_2024S1/blob/main/Lab_Pandas1.ipynb\" target=\"_parent\"><img src=\"https://colab.research.google.com/assets/colab-badge.svg\" alt=\"Open In Colab\"/></a>"
      ]
    },
    {
      "cell_type": "markdown",
      "metadata": {
        "id": "J3LMBfpeHTwb"
      },
      "source": [
        "<head>\n",
        "  <meta name=\"author\" content=\"Rogério de Oliveira\">\n",
        "  <meta institution=\"author\" content=\"Universidade Presbiteriana Mackenzie\">\n",
        "</head>\n",
        "\n",
        "<img src=\"http://meusite.mackenzie.br/rogerio/mackenzie_logo/UPM.2_horizontal_vermelho.jpg\" width=300, align=\"right\">\n",
        "<!-- <h1 align=left><font size = 6, style=\"color:rgb(200,0,0)\"> optional title </font></h1> -->\n",
        "\n"
      ]
    },
    {
      "cell_type": "markdown",
      "source": [
        "# Lab: Pandas I  \n",
        "\n",
        "O principal objetivo desse lab é você entender fazer a aquisição de dados com `Pandas` e uma exploração inicial dos dados.\n",
        "\n",
        "<br>\n",
        "\n",
        "Referências e Materiais úteis para este Lab:\n",
        "\n",
        "* [Notas de Aula](https://colab.research.google.com/github/Rogerio-mack/Analise_de_dados_2023S2/blob/main/Lab_Pandas_notes.ipynb)\n",
        "\n",
        "\n",
        "<br>\n",
        "\n",
        "<img src=\"https://jakevdp.github.io/PythonDataScienceHandbook/figures/PDSH-cover.png\n",
        "\" width=150>\n",
        "\n",
        "* [Jake VanderPlas. **Python Data Science Handbook**](https://jakevdp.github.io/PythonDataScienceHandbook/)\n",
        "\n",
        "* [Pandas Cheat Sheet for Data Science in Python](https://pandas.pydata.org/Pandas_Cheat_Sheet.pdf)\n",
        "\n",
        "<br>\n",
        "---\n",
        "\n"
      ],
      "metadata": {
        "id": "dEyV_GqcqtL1"
      }
    },
    {
      "cell_type": "markdown",
      "source": [
        "# Basic imports"
      ],
      "metadata": {
        "id": "6AsPs0GIlyle"
      }
    },
    {
      "cell_type": "code",
      "metadata": {
        "id": "jf4DkEBpGdr4"
      },
      "source": [
        "import numpy as np\n",
        "import pandas as pd\n",
        "import matplotlib.pyplot as plt\n",
        "%matplotlib inline\n",
        "import seaborn as sns\n"
      ],
      "execution_count": null,
      "outputs": []
    },
    {
      "cell_type": "markdown",
      "metadata": {
        "id": "te1NO4UoLvgn"
      },
      "source": [
        "## **CASE: Insurance**\n",
        "\n",
        "Acesse a base de dados [`insurance`](https://github.com/Rogerio-mack/Analise_de_Dados_2023S2/raw/main/insurance.csv) para as questões a seguir.\n",
        "\n"
      ]
    },
    {
      "cell_type": "markdown",
      "metadata": {
        "id": "1M0SwWQ-bH7M"
      },
      "source": [
        "##### Q1. Acesse os dados explore a estrutura básica dos dados de `insurance`.\n",
        "\n",
        "> * Qual o número de caso de seguro?\n",
        "> * Quantos atributos são numéricos?\n",
        "> * Há quantos valores diferentes para região?\n",
        "> * Qual a maior quantidade de filhos?"
      ]
    },
    {
      "cell_type": "markdown",
      "metadata": {
        "id": "dgzrRcDUcOXo"
      },
      "source": [
        "##### Q2. Qual a quantidade de casos por região?"
      ]
    },
    {
      "cell_type": "markdown",
      "metadata": {
        "id": "QQxhcHxLd0eE"
      },
      "source": [
        "##### Q3. Qual a média dos pagamentos (charges) efetuados?"
      ]
    },
    {
      "cell_type": "markdown",
      "metadata": {
        "id": "C8u7kGA1eCIn"
      },
      "source": [
        "##### Q4. Qual a média dos pagamentos (charges) dos 10 maiores pagamentos efetuados?"
      ]
    },
    {
      "cell_type": "markdown",
      "source": [
        "##### Q5. Qual o percentual de mulheres seguradas?"
      ],
      "metadata": {
        "id": "mWwsITSc3zMT"
      }
    },
    {
      "cell_type": "markdown",
      "source": [
        "##### Q6. Qual o percentual de mulheres seguradas?"
      ],
      "metadata": {
        "id": "GY1dvNJ43-W-"
      }
    },
    {
      "cell_type": "markdown",
      "source": [
        "##### Q7. Qual o valor médio pago pelos homens segurados?"
      ],
      "metadata": {
        "id": "P-oLe1IX4Pj8"
      }
    },
    {
      "cell_type": "markdown",
      "source": [
        "##### Q8. Qual a média de idade dos homens e mulheres?"
      ],
      "metadata": {
        "id": "7qBWgz2p4Xnb"
      }
    },
    {
      "cell_type": "markdown",
      "metadata": {
        "id": "vJiFmcL7fCdt"
      },
      "source": [
        "##### Q9. Calcule a distância interquartis dos pagamentos.\n",
        "\n",
        "**Dica** Empregue a função `quantile()` do `Pandas` e use IQR = Q3 - Q1.\n",
        "\n"
      ]
    },
    {
      "cell_type": "markdown",
      "metadata": {
        "id": "Mjn6AADVfpUf"
      },
      "source": [
        "##### Q10. Empregue o valor IQR da questão anterior para verificar se existem *outliers* dos pagamentos.\n",
        "\n",
        "**Dica** *outliers* são dados fora do intervalo $[Q1 - 1.5 IQR, Q3 + 1.5 IQR]$"
      ]
    },
    {
      "cell_type": "markdown",
      "source": [
        "##### Q11. Faça um gráfico de caixa dos valores de `charges` para homens e mulheres."
      ],
      "metadata": {
        "id": "VBjm2Fbm5Bcq"
      }
    }
  ]
}