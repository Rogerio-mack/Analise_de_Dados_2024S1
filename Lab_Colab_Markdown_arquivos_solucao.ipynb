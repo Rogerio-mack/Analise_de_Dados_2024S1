{
  "nbformat": 4,
  "nbformat_minor": 0,
  "metadata": {
    "colab": {
      "provenance": [],
      "authorship_tag": "ABX9TyOiQj/YDmon7JQpYrNNlCAr",
      "include_colab_link": true
    },
    "kernelspec": {
      "name": "python3",
      "display_name": "Python 3"
    },
    "language_info": {
      "name": "python"
    }
  },
  "cells": [
    {
      "cell_type": "markdown",
      "metadata": {
        "id": "view-in-github",
        "colab_type": "text"
      },
      "source": [
        "<a href=\"https://colab.research.google.com/github/Rogerio-mack/Analise_de_Dados_2024S1/blob/main/Lab_Colab_Markdown_arquivos_solucao.ipynb\" target=\"_parent\"><img src=\"https://colab.research.google.com/assets/colab-badge.svg\" alt=\"Open In Colab\"/></a>"
      ]
    },
    {
      "cell_type": "markdown",
      "source": [
        "<head>\n",
        "  <meta name=\"author\" content=\"Rogério de Oliveira\">\n",
        "  <meta institution=\"author\" content=\"Universidade Presbiteriana Mackenzie\">\n",
        "</head>\n",
        "\n",
        "<img src=\"http://meusite.mackenzie.br/rogerio/mackenzie_logo/UPM.2_horizontal_vermelho.jpg\" width=300, align=\"right\">\n"
      ],
      "metadata": {
        "id": "38WSrvhYvBmD"
      }
    },
    {
      "cell_type": "markdown",
      "source": [
        "# Lab: Colab, Markdown e acessando arquivos\n",
        "\n",
        "Referências e Materiais úteis para este Lab:\n",
        "\n",
        "1. [Colab](https://colab.research.google.com/), ou veja aqui como trabalhar com notebooks o Colab:\n",
        "- [Visão geral do Colaboratory](/notebooks/basic_features_overview.ipynb)\n",
        "- [Guia sobre Markdown](/notebooks/markdown_guide.ipynb)\n",
        "- [Carregar dados: Drive, Planilhas e Google Cloud Storage](/notebooks/io.ipynb)\n",
        "2. [w3schools](https://www.w3schools.com/python/python_file_open.asp), veja aqui como ler um arquivo .txt com `Python`\n",
        "\n",
        "<br>\n",
        "\n",
        "Para saber mais:\n",
        "- [Anaconda](https://www.anaconda.com/products/distribution), para uma distribuição local de um ambiente completo `Python` incluindo Jupyter notebooks.\n",
        "- [Formulários interativos](/notebooks/forms.ipynb)\n",
        "- [Widgets interativos](/notebooks/widgets.ipynb)\n",
        "\n",
        "\n",
        "---\n",
        "\n"
      ],
      "metadata": {
        "id": "dEyV_GqcqtL1"
      }
    },
    {
      "cell_type": "markdown",
      "source": [
        "# Exercício 1\n",
        "Empregue a barra de ferramentas do editor de células de texto. Ela fornece um sumário dos principais comandos de edição Markdown. Experimente diferentes níveis de título, como marcar expressões e palavras com negrito e itálico, como inserir linhas de código no texto e fórmulas matemáticas, como adicionar links, imagens e listas, inserir recuo no texto etc.\n"
      ],
      "metadata": {
        "id": "7xNocrH8qwCT"
      }
    },
    {
      "cell_type": "markdown",
      "source": [
        "**Solução**"
      ],
      "metadata": {
        "id": "8WihRYCUvSNT"
      }
    },
    {
      "cell_type": "markdown",
      "source": [
        "# Título\n",
        "## Subtítulo\n",
        "### Subsubtítulo\n",
        "\n",
        "# Nova seção\n",
        "\n",
        "**negrito**\n",
        "\n",
        "*texto em itálico*\n",
        "\n",
        "$$ln(x) = e^{x}$$\n",
        "\n",
        "\n",
        "```\n",
        "# Isto está formatado como código\n",
        "x = 1\n",
        "if x > 0:\n",
        "  print('ok')\n",
        "```\n",
        "\n"
      ],
      "metadata": {
        "id": "vW9JP2ux-1RZ"
      }
    },
    {
      "cell_type": "markdown",
      "source": [
        "o código acima é texto, e diferente de:"
      ],
      "metadata": {
        "id": "ifMnuwaIvpkF"
      }
    },
    {
      "cell_type": "code",
      "source": [
        "x = 1\n",
        "if x > 0:\n",
        "  print('ok')"
      ],
      "metadata": {
        "colab": {
          "base_uri": "https://localhost:8080/"
        },
        "id": "niMeRE8mAScW",
        "outputId": "029443fe-87c9-424b-d333-67f37bba99d3"
      },
      "execution_count": null,
      "outputs": [
        {
          "output_type": "stream",
          "name": "stdout",
          "text": [
            "ok\n"
          ]
        }
      ]
    },
    {
      "cell_type": "markdown",
      "source": [
        "[Acesse o GitHub](https://github.com/Rogerio-mack)\n",
        "\n"
      ],
      "metadata": {
        "id": "6GE4cpEJBFPU"
      }
    },
    {
      "cell_type": "markdown",
      "source": [
        "![imagem](http://meusite.mackenzie.br/rogerio/mackenzie_logo/UPM.2_horizontal_vermelho.jpg)\n",
        "\n",
        "ou empregue `html` para mais opções, como alterar o tamanho da imagem:\n",
        "\n",
        "<img src=\"http://meusite.mackenzie.br/rogerio/mackenzie_logo/UPM.2_horizontal_vermelho.jpg\" width=300, align=\"right\">\n",
        "\n",
        "\n",
        "\n",
        "\n",
        "\n"
      ],
      "metadata": {
        "id": "zlg9Wq4yCbPE"
      }
    },
    {
      "cell_type": "markdown",
      "source": [
        "\n",
        "Frase do dia:\n",
        "\n",
        "> *To be or not to be* (Sheakspeare)\n",
        "\n",
        "\n",
        "\n",
        "1.   Item da lista\n",
        "1.   Item da lista\n",
        "1.   Item ...\n",
        "\n",
        "\n",
        "\n",
        "*   Item da lista\n",
        "*   Item da lista\n",
        "\n",
        "✅\n",
        "\n",
        "😧\n",
        "\n",
        "\n",
        "\n",
        "\n",
        "\n",
        "\n",
        "\n",
        "\n",
        "\n",
        "\n",
        "\n"
      ],
      "metadata": {
        "id": "CsetyUL9DEYu"
      }
    },
    {
      "cell_type": "markdown",
      "source": [
        "# Exercício 2"
      ],
      "metadata": {
        "id": "kktK0oXC1TWC"
      }
    },
    {
      "cell_type": "markdown",
      "source": [],
      "metadata": {
        "id": "b1v_GuBJ1sWg"
      }
    },
    {
      "cell_type": "markdown",
      "source": [
        "a) Crie um arquivo `demo.txt` com uma mensagem texto em sua máquina local."
      ],
      "metadata": {
        "id": "MZ03CQY61dO8"
      }
    },
    {
      "cell_type": "markdown",
      "source": [
        "**Solução**"
      ],
      "metadata": {
        "id": "NTmzlKSx1owR"
      }
    },
    {
      "cell_type": "code",
      "source": [
        "# Você pode fazer isso manualmente criando um arquivo demo.txt com o notepad na sua máquina\n",
        "!echo \"Gostar é provavelmente a melhor maneira de ter, ter deve ser a pior maneira de gostar (José Saramago)\" > demo.txt\n",
        "\n",
        "from google.colab import files\n",
        "files.download('demo.txt')\n",
        "\n",
        "!rm demo.txt"
      ],
      "metadata": {
        "id": "YIPhiws8x2Pb"
      },
      "execution_count": null,
      "outputs": []
    },
    {
      "cell_type": "markdown",
      "source": [
        "b) Empregue a API do Google Colab para fazer o upload do arquivo `demo.txt` no Colab e crie um programa `Python` que lê este arquivo no Colab."
      ],
      "metadata": {
        "id": "CpbJZyaL1zbg"
      }
    },
    {
      "cell_type": "markdown",
      "source": [
        "**Solução**"
      ],
      "metadata": {
        "id": "Y-ac1ROO2SAR"
      }
    },
    {
      "cell_type": "code",
      "source": [
        "from google.colab import files\n",
        "\n",
        "uploaded = files.upload()\n",
        "\n",
        "for fn in uploaded.keys():\n",
        "  print('User uploaded file \"{name}\" with length {length} bytes'.format(\n",
        "      name=fn, length=len(uploaded[fn])))"
      ],
      "metadata": {
        "colab": {
          "base_uri": "https://localhost:8080/",
          "height": 91
        },
        "id": "u_NOh8p8z7ax",
        "outputId": "c8297288-4d0a-4957-e7d8-94dc04b25862"
      },
      "execution_count": null,
      "outputs": [
        {
          "output_type": "display_data",
          "data": {
            "text/plain": [
              "<IPython.core.display.HTML object>"
            ],
            "text/html": [
              "\n",
              "     <input type=\"file\" id=\"files-f0410516-76ba-40a2-87eb-62645b222cf7\" name=\"files[]\" multiple disabled\n",
              "        style=\"border:none\" />\n",
              "     <output id=\"result-f0410516-76ba-40a2-87eb-62645b222cf7\">\n",
              "      Upload widget is only available when the cell has been executed in the\n",
              "      current browser session. Please rerun this cell to enable.\n",
              "      </output>\n",
              "      <script>// Copyright 2017 Google LLC\n",
              "//\n",
              "// Licensed under the Apache License, Version 2.0 (the \"License\");\n",
              "// you may not use this file except in compliance with the License.\n",
              "// You may obtain a copy of the License at\n",
              "//\n",
              "//      http://www.apache.org/licenses/LICENSE-2.0\n",
              "//\n",
              "// Unless required by applicable law or agreed to in writing, software\n",
              "// distributed under the License is distributed on an \"AS IS\" BASIS,\n",
              "// WITHOUT WARRANTIES OR CONDITIONS OF ANY KIND, either express or implied.\n",
              "// See the License for the specific language governing permissions and\n",
              "// limitations under the License.\n",
              "\n",
              "/**\n",
              " * @fileoverview Helpers for google.colab Python module.\n",
              " */\n",
              "(function(scope) {\n",
              "function span(text, styleAttributes = {}) {\n",
              "  const element = document.createElement('span');\n",
              "  element.textContent = text;\n",
              "  for (const key of Object.keys(styleAttributes)) {\n",
              "    element.style[key] = styleAttributes[key];\n",
              "  }\n",
              "  return element;\n",
              "}\n",
              "\n",
              "// Max number of bytes which will be uploaded at a time.\n",
              "const MAX_PAYLOAD_SIZE = 100 * 1024;\n",
              "\n",
              "function _uploadFiles(inputId, outputId) {\n",
              "  const steps = uploadFilesStep(inputId, outputId);\n",
              "  const outputElement = document.getElementById(outputId);\n",
              "  // Cache steps on the outputElement to make it available for the next call\n",
              "  // to uploadFilesContinue from Python.\n",
              "  outputElement.steps = steps;\n",
              "\n",
              "  return _uploadFilesContinue(outputId);\n",
              "}\n",
              "\n",
              "// This is roughly an async generator (not supported in the browser yet),\n",
              "// where there are multiple asynchronous steps and the Python side is going\n",
              "// to poll for completion of each step.\n",
              "// This uses a Promise to block the python side on completion of each step,\n",
              "// then passes the result of the previous step as the input to the next step.\n",
              "function _uploadFilesContinue(outputId) {\n",
              "  const outputElement = document.getElementById(outputId);\n",
              "  const steps = outputElement.steps;\n",
              "\n",
              "  const next = steps.next(outputElement.lastPromiseValue);\n",
              "  return Promise.resolve(next.value.promise).then((value) => {\n",
              "    // Cache the last promise value to make it available to the next\n",
              "    // step of the generator.\n",
              "    outputElement.lastPromiseValue = value;\n",
              "    return next.value.response;\n",
              "  });\n",
              "}\n",
              "\n",
              "/**\n",
              " * Generator function which is called between each async step of the upload\n",
              " * process.\n",
              " * @param {string} inputId Element ID of the input file picker element.\n",
              " * @param {string} outputId Element ID of the output display.\n",
              " * @return {!Iterable<!Object>} Iterable of next steps.\n",
              " */\n",
              "function* uploadFilesStep(inputId, outputId) {\n",
              "  const inputElement = document.getElementById(inputId);\n",
              "  inputElement.disabled = false;\n",
              "\n",
              "  const outputElement = document.getElementById(outputId);\n",
              "  outputElement.innerHTML = '';\n",
              "\n",
              "  const pickedPromise = new Promise((resolve) => {\n",
              "    inputElement.addEventListener('change', (e) => {\n",
              "      resolve(e.target.files);\n",
              "    });\n",
              "  });\n",
              "\n",
              "  const cancel = document.createElement('button');\n",
              "  inputElement.parentElement.appendChild(cancel);\n",
              "  cancel.textContent = 'Cancel upload';\n",
              "  const cancelPromise = new Promise((resolve) => {\n",
              "    cancel.onclick = () => {\n",
              "      resolve(null);\n",
              "    };\n",
              "  });\n",
              "\n",
              "  // Wait for the user to pick the files.\n",
              "  const files = yield {\n",
              "    promise: Promise.race([pickedPromise, cancelPromise]),\n",
              "    response: {\n",
              "      action: 'starting',\n",
              "    }\n",
              "  };\n",
              "\n",
              "  cancel.remove();\n",
              "\n",
              "  // Disable the input element since further picks are not allowed.\n",
              "  inputElement.disabled = true;\n",
              "\n",
              "  if (!files) {\n",
              "    return {\n",
              "      response: {\n",
              "        action: 'complete',\n",
              "      }\n",
              "    };\n",
              "  }\n",
              "\n",
              "  for (const file of files) {\n",
              "    const li = document.createElement('li');\n",
              "    li.append(span(file.name, {fontWeight: 'bold'}));\n",
              "    li.append(span(\n",
              "        `(${file.type || 'n/a'}) - ${file.size} bytes, ` +\n",
              "        `last modified: ${\n",
              "            file.lastModifiedDate ? file.lastModifiedDate.toLocaleDateString() :\n",
              "                                    'n/a'} - `));\n",
              "    const percent = span('0% done');\n",
              "    li.appendChild(percent);\n",
              "\n",
              "    outputElement.appendChild(li);\n",
              "\n",
              "    const fileDataPromise = new Promise((resolve) => {\n",
              "      const reader = new FileReader();\n",
              "      reader.onload = (e) => {\n",
              "        resolve(e.target.result);\n",
              "      };\n",
              "      reader.readAsArrayBuffer(file);\n",
              "    });\n",
              "    // Wait for the data to be ready.\n",
              "    let fileData = yield {\n",
              "      promise: fileDataPromise,\n",
              "      response: {\n",
              "        action: 'continue',\n",
              "      }\n",
              "    };\n",
              "\n",
              "    // Use a chunked sending to avoid message size limits. See b/62115660.\n",
              "    let position = 0;\n",
              "    do {\n",
              "      const length = Math.min(fileData.byteLength - position, MAX_PAYLOAD_SIZE);\n",
              "      const chunk = new Uint8Array(fileData, position, length);\n",
              "      position += length;\n",
              "\n",
              "      const base64 = btoa(String.fromCharCode.apply(null, chunk));\n",
              "      yield {\n",
              "        response: {\n",
              "          action: 'append',\n",
              "          file: file.name,\n",
              "          data: base64,\n",
              "        },\n",
              "      };\n",
              "\n",
              "      let percentDone = fileData.byteLength === 0 ?\n",
              "          100 :\n",
              "          Math.round((position / fileData.byteLength) * 100);\n",
              "      percent.textContent = `${percentDone}% done`;\n",
              "\n",
              "    } while (position < fileData.byteLength);\n",
              "  }\n",
              "\n",
              "  // All done.\n",
              "  yield {\n",
              "    response: {\n",
              "      action: 'complete',\n",
              "    }\n",
              "  };\n",
              "}\n",
              "\n",
              "scope.google = scope.google || {};\n",
              "scope.google.colab = scope.google.colab || {};\n",
              "scope.google.colab._files = {\n",
              "  _uploadFiles,\n",
              "  _uploadFilesContinue,\n",
              "};\n",
              "})(self);\n",
              "</script> "
            ]
          },
          "metadata": {}
        },
        {
          "output_type": "stream",
          "name": "stdout",
          "text": [
            "Saving demo.txt to demo.txt\n",
            "User uploaded file \"demo.txt\" with length 104 bytes\n"
          ]
        }
      ]
    },
    {
      "cell_type": "code",
      "source": [
        "f = open(\"demo.txt\", \"r\")\n",
        "for line in f:\n",
        "  print(line)"
      ],
      "metadata": {
        "colab": {
          "base_uri": "https://localhost:8080/"
        },
        "id": "aUa11fDy0b8o",
        "outputId": "b2da7825-fb51-4372-dca6-c1b3df24ecbf"
      },
      "execution_count": null,
      "outputs": [
        {
          "output_type": "stream",
          "name": "stdout",
          "text": [
            "Gostar é provavelmente a melhor maneira de ter, ter deve ser a pior maneira de gostar (José Saramago)\n",
            "\n"
          ]
        }
      ]
    },
    {
      "cell_type": "markdown",
      "source": [
        "c) Repita o exercício anterior lendo agora o arquivo `demo.txt` de seu Google Drive. Para isso, salve o arquivo `demo.txt` no seu Google Drive e empregue a API do Google Colab para conectar o Google Drive ao seu Colab.  "
      ],
      "metadata": {
        "id": "nH-p54o82ddG"
      }
    },
    {
      "cell_type": "markdown",
      "source": [
        "**Solução**"
      ],
      "metadata": {
        "id": "VqfDmUY-3H1-"
      }
    },
    {
      "cell_type": "markdown",
      "source": [
        "Conecta o Google Drive..."
      ],
      "metadata": {
        "id": "7lsw3tug3JyO"
      }
    },
    {
      "cell_type": "code",
      "source": [
        "from google.colab import drive\n",
        "drive.mount('/content/drive')"
      ],
      "metadata": {
        "colab": {
          "base_uri": "https://localhost:8080/"
        },
        "id": "GYWI8V8eRbVk",
        "outputId": "2dd94505-c654-4b5a-858a-6de24e82e42b"
      },
      "execution_count": null,
      "outputs": [
        {
          "output_type": "stream",
          "name": "stdout",
          "text": [
            "Mounted at /content/drive\n"
          ]
        }
      ]
    },
    {
      "cell_type": "markdown",
      "source": [
        "Copia o arquivo (você pode fazer manualmente, sem precisar empregar este código)"
      ],
      "metadata": {
        "id": "bycWChRO3ML1"
      }
    },
    {
      "cell_type": "code",
      "source": [
        "!cp demo.txt /content/drive/MyDrive/demo.txt"
      ],
      "metadata": {
        "id": "MZ2iEi4f3UI3"
      },
      "execution_count": null,
      "outputs": []
    },
    {
      "cell_type": "markdown",
      "source": [
        "Lê o arquivo do Drive..."
      ],
      "metadata": {
        "id": "9cU48O1M3gzI"
      }
    },
    {
      "cell_type": "code",
      "source": [
        "f = open(\"/content/drive/MyDrive/demo.txt\", \"r\")\n",
        "for line in f:\n",
        "  print(line)"
      ],
      "metadata": {
        "colab": {
          "base_uri": "https://localhost:8080/"
        },
        "id": "_wuKjBQk3nrU",
        "outputId": "accb22fb-ef0c-4d69-8473-799cdc504223"
      },
      "execution_count": null,
      "outputs": [
        {
          "output_type": "stream",
          "name": "stdout",
          "text": [
            "Gostar é provavelmente a melhor maneira de ter, ter deve ser a pior maneira de gostar (José Saramago)\n",
            "\n"
          ]
        }
      ]
    }
  ]
}