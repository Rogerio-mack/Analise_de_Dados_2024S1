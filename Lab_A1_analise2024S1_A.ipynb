{
  "nbformat": 4,
  "nbformat_minor": 0,
  "metadata": {
    "celltoolbar": "Edit Metadata",
    "colab": {
      "provenance": [],
      "include_colab_link": true
    },
    "kernelspec": {
      "display_name": "Python 3",
      "language": "python",
      "name": "python3"
    },
    "language_info": {
      "codemirror_mode": {
        "name": "ipython",
        "version": 3
      },
      "file_extension": ".py",
      "mimetype": "text/x-python",
      "name": "python",
      "nbconvert_exporter": "python",
      "pygments_lexer": "ipython3",
      "version": "3.6.13"
    }
  },
  "cells": [
    {
      "cell_type": "markdown",
      "metadata": {
        "id": "view-in-github",
        "colab_type": "text"
      },
      "source": [
        "<a href=\"https://colab.research.google.com/github/Rogerio-mack/Analise_de_Dados_2024S1/blob/main/Lab_A1_analise2024S1_A.ipynb\" target=\"_parent\"><img src=\"https://colab.research.google.com/assets/colab-badge.svg\" alt=\"Open In Colab\"/></a>"
      ]
    },
    {
      "cell_type": "markdown",
      "metadata": {
        "id": "J3LMBfpeHTwb"
      },
      "source": [
        "<head>\n",
        "  <meta name=\"author\" content=\"Rogério de Oliveira\">\n",
        "  <meta institution=\"author\" content=\"Universidade Presbiteriana Mackenzie\">\n",
        "</head>\n",
        "\n",
        "<img src=\"http://meusite.mackenzie.br/rogerio/mackenzie_logo/UPM.2_horizontal_vermelho.jpg\" width=300, align=\"right\">\n",
        "<!-- <h1 align=left><font size = 6, style=\"color:rgb(200,0,0)\"> optional title </font></h1> -->\n",
        "\n"
      ]
    },
    {
      "cell_type": "markdown",
      "source": [
        "# Lab Avaliativo 1\n",
        "\n",
        "Conceitos verificados neste Lab:\n",
        "\n",
        "1. Construção em camadas do `Matplotlib` e seus elementos básicos\n",
        "2. Como empregar os modos `script layer` e `artist layer`\n",
        "3. Explorar gráficos de linha e distribuição  \n",
        "\n",
        "**Ao final do Lab, faça um print do seu Colab em .pdf poste seu .pdf:**\n",
        "```\n",
        "Arquivo > Imprimir > Salvar como .pdf\n",
        "```"
      ],
      "metadata": {
        "id": "dEyV_GqcqtL1"
      }
    },
    {
      "cell_type": "markdown",
      "source": [
        "# Basic imports"
      ],
      "metadata": {
        "id": "6AsPs0GIlyle"
      }
    },
    {
      "cell_type": "code",
      "metadata": {
        "id": "jf4DkEBpGdr4"
      },
      "source": [
        "import numpy as np\n",
        "import pandas as pd\n",
        "import matplotlib.pyplot as plt\n",
        "%matplotlib inline\n",
        "import seaborn as sns\n"
      ],
      "execution_count": null,
      "outputs": []
    },
    {
      "cell_type": "markdown",
      "source": [
        "# Exercício 1\n",
        "\n",
        "Empregando o Matplotlib, produza em um mesmo gráfico o gráfico de linha das funções:\n",
        "\n",
        "1. $f(x) = tanh(x)$ (empregue `np.tanh()`), e\n",
        "\n",
        "2. $g(x) = \\frac{1}{10}x^2 + 1$\n",
        "\n",
        "para $x \\in [-10,10]$.\n",
        "\n",
        "0. Para os valores de $x$ empregue a função `np.arange()`gerando valores com intervalos de $0.01$.\n",
        "1. Inclua um título com a função\n",
        "2. Empregue uma linha de cor vermelha e estilo traço-ponto para função $f(x)$ e cor preta e estilo sólido para função $g(x)$\n",
        "3. Altere o tamanho da figura para 5x3\n",
        "4. Inclua rótulos para os eixos do gráfico\n",
        "5. Adicione os labels `f(x)` e `g(x)` para cada função"
      ],
      "metadata": {
        "id": "RZBD6sI3b88Y"
      }
    },
    {
      "cell_type": "code",
      "source": [
        "# seu código\n"
      ],
      "metadata": {
        "id": "Ppe63Vwnn65k"
      },
      "execution_count": null,
      "outputs": []
    },
    {
      "cell_type": "markdown",
      "source": [
        "# Exercício 2  \n",
        "\n",
        "Os dados abaixo representam os sinais neuronais médios de vários sujeitos em momentos de repouso (`cue`) e estímulo (`stim`) ao longo do tempo.\n",
        "\n"
      ],
      "metadata": {
        "id": "6SLXlDIheIq1"
      }
    },
    {
      "cell_type": "code",
      "source": [
        "#@markdown Execute para gerar os dados\n",
        "df = sns.load_dataset('fmri')\n",
        "df = df.sort_values('timepoint')\n",
        "df = df[ (df.region == 'parietal') ].groupby(['timepoint','event'])[['signal']].mean().unstack().reset_index()\n",
        "df.columns=['timepoint','signalcue','signalstim']\n",
        "timepoint = df.timepoint.values\n",
        "signalcue = df.signalcue.values\n",
        "signalstim = df.signalstim.values"
      ],
      "metadata": {
        "cellView": "form",
        "id": "YA6g6PuB4ige"
      },
      "execution_count": null,
      "outputs": []
    },
    {
      "cell_type": "code",
      "source": [
        "\n",
        "df.head()"
      ],
      "metadata": {
        "id": "3qgTyK20wjiP",
        "outputId": "73148e87-bfd7-4fc2-a463-b4131ab5feb6",
        "colab": {
          "base_uri": "https://localhost:8080/",
          "height": 206
        }
      },
      "execution_count": null,
      "outputs": [
        {
          "output_type": "execute_result",
          "data": {
            "text/plain": [
              "   timepoint  signalcue  signalstim\n",
              "0          0  -0.023166   -0.024995\n",
              "1          1  -0.028297   -0.040460\n",
              "2          2  -0.015483   -0.020062\n",
              "3          3   0.021937    0.061224\n",
              "4          4   0.061302    0.177131"
            ],
            "text/html": [
              "\n",
              "  <div id=\"df-dbf90863-41cf-4d68-9dfd-a13d0a58483b\" class=\"colab-df-container\">\n",
              "    <div>\n",
              "<style scoped>\n",
              "    .dataframe tbody tr th:only-of-type {\n",
              "        vertical-align: middle;\n",
              "    }\n",
              "\n",
              "    .dataframe tbody tr th {\n",
              "        vertical-align: top;\n",
              "    }\n",
              "\n",
              "    .dataframe thead th {\n",
              "        text-align: right;\n",
              "    }\n",
              "</style>\n",
              "<table border=\"1\" class=\"dataframe\">\n",
              "  <thead>\n",
              "    <tr style=\"text-align: right;\">\n",
              "      <th></th>\n",
              "      <th>timepoint</th>\n",
              "      <th>signalcue</th>\n",
              "      <th>signalstim</th>\n",
              "    </tr>\n",
              "  </thead>\n",
              "  <tbody>\n",
              "    <tr>\n",
              "      <th>0</th>\n",
              "      <td>0</td>\n",
              "      <td>-0.023166</td>\n",
              "      <td>-0.024995</td>\n",
              "    </tr>\n",
              "    <tr>\n",
              "      <th>1</th>\n",
              "      <td>1</td>\n",
              "      <td>-0.028297</td>\n",
              "      <td>-0.040460</td>\n",
              "    </tr>\n",
              "    <tr>\n",
              "      <th>2</th>\n",
              "      <td>2</td>\n",
              "      <td>-0.015483</td>\n",
              "      <td>-0.020062</td>\n",
              "    </tr>\n",
              "    <tr>\n",
              "      <th>3</th>\n",
              "      <td>3</td>\n",
              "      <td>0.021937</td>\n",
              "      <td>0.061224</td>\n",
              "    </tr>\n",
              "    <tr>\n",
              "      <th>4</th>\n",
              "      <td>4</td>\n",
              "      <td>0.061302</td>\n",
              "      <td>0.177131</td>\n",
              "    </tr>\n",
              "  </tbody>\n",
              "</table>\n",
              "</div>\n",
              "    <div class=\"colab-df-buttons\">\n",
              "\n",
              "  <div class=\"colab-df-container\">\n",
              "    <button class=\"colab-df-convert\" onclick=\"convertToInteractive('df-dbf90863-41cf-4d68-9dfd-a13d0a58483b')\"\n",
              "            title=\"Convert this dataframe to an interactive table.\"\n",
              "            style=\"display:none;\">\n",
              "\n",
              "  <svg xmlns=\"http://www.w3.org/2000/svg\" height=\"24px\" viewBox=\"0 -960 960 960\">\n",
              "    <path d=\"M120-120v-720h720v720H120Zm60-500h600v-160H180v160Zm220 220h160v-160H400v160Zm0 220h160v-160H400v160ZM180-400h160v-160H180v160Zm440 0h160v-160H620v160ZM180-180h160v-160H180v160Zm440 0h160v-160H620v160Z\"/>\n",
              "  </svg>\n",
              "    </button>\n",
              "\n",
              "  <style>\n",
              "    .colab-df-container {\n",
              "      display:flex;\n",
              "      gap: 12px;\n",
              "    }\n",
              "\n",
              "    .colab-df-convert {\n",
              "      background-color: #E8F0FE;\n",
              "      border: none;\n",
              "      border-radius: 50%;\n",
              "      cursor: pointer;\n",
              "      display: none;\n",
              "      fill: #1967D2;\n",
              "      height: 32px;\n",
              "      padding: 0 0 0 0;\n",
              "      width: 32px;\n",
              "    }\n",
              "\n",
              "    .colab-df-convert:hover {\n",
              "      background-color: #E2EBFA;\n",
              "      box-shadow: 0px 1px 2px rgba(60, 64, 67, 0.3), 0px 1px 3px 1px rgba(60, 64, 67, 0.15);\n",
              "      fill: #174EA6;\n",
              "    }\n",
              "\n",
              "    .colab-df-buttons div {\n",
              "      margin-bottom: 4px;\n",
              "    }\n",
              "\n",
              "    [theme=dark] .colab-df-convert {\n",
              "      background-color: #3B4455;\n",
              "      fill: #D2E3FC;\n",
              "    }\n",
              "\n",
              "    [theme=dark] .colab-df-convert:hover {\n",
              "      background-color: #434B5C;\n",
              "      box-shadow: 0px 1px 3px 1px rgba(0, 0, 0, 0.15);\n",
              "      filter: drop-shadow(0px 1px 2px rgba(0, 0, 0, 0.3));\n",
              "      fill: #FFFFFF;\n",
              "    }\n",
              "  </style>\n",
              "\n",
              "    <script>\n",
              "      const buttonEl =\n",
              "        document.querySelector('#df-dbf90863-41cf-4d68-9dfd-a13d0a58483b button.colab-df-convert');\n",
              "      buttonEl.style.display =\n",
              "        google.colab.kernel.accessAllowed ? 'block' : 'none';\n",
              "\n",
              "      async function convertToInteractive(key) {\n",
              "        const element = document.querySelector('#df-dbf90863-41cf-4d68-9dfd-a13d0a58483b');\n",
              "        const dataTable =\n",
              "          await google.colab.kernel.invokeFunction('convertToInteractive',\n",
              "                                                    [key], {});\n",
              "        if (!dataTable) return;\n",
              "\n",
              "        const docLinkHtml = 'Like what you see? Visit the ' +\n",
              "          '<a target=\"_blank\" href=https://colab.research.google.com/notebooks/data_table.ipynb>data table notebook</a>'\n",
              "          + ' to learn more about interactive tables.';\n",
              "        element.innerHTML = '';\n",
              "        dataTable['output_type'] = 'display_data';\n",
              "        await google.colab.output.renderOutput(dataTable, element);\n",
              "        const docLink = document.createElement('div');\n",
              "        docLink.innerHTML = docLinkHtml;\n",
              "        element.appendChild(docLink);\n",
              "      }\n",
              "    </script>\n",
              "  </div>\n",
              "\n",
              "\n",
              "<div id=\"df-98ebfa9a-bd21-4e95-b2b0-ad01c151f4b0\">\n",
              "  <button class=\"colab-df-quickchart\" onclick=\"quickchart('df-98ebfa9a-bd21-4e95-b2b0-ad01c151f4b0')\"\n",
              "            title=\"Suggest charts\"\n",
              "            style=\"display:none;\">\n",
              "\n",
              "<svg xmlns=\"http://www.w3.org/2000/svg\" height=\"24px\"viewBox=\"0 0 24 24\"\n",
              "     width=\"24px\">\n",
              "    <g>\n",
              "        <path d=\"M19 3H5c-1.1 0-2 .9-2 2v14c0 1.1.9 2 2 2h14c1.1 0 2-.9 2-2V5c0-1.1-.9-2-2-2zM9 17H7v-7h2v7zm4 0h-2V7h2v10zm4 0h-2v-4h2v4z\"/>\n",
              "    </g>\n",
              "</svg>\n",
              "  </button>\n",
              "\n",
              "<style>\n",
              "  .colab-df-quickchart {\n",
              "      --bg-color: #E8F0FE;\n",
              "      --fill-color: #1967D2;\n",
              "      --hover-bg-color: #E2EBFA;\n",
              "      --hover-fill-color: #174EA6;\n",
              "      --disabled-fill-color: #AAA;\n",
              "      --disabled-bg-color: #DDD;\n",
              "  }\n",
              "\n",
              "  [theme=dark] .colab-df-quickchart {\n",
              "      --bg-color: #3B4455;\n",
              "      --fill-color: #D2E3FC;\n",
              "      --hover-bg-color: #434B5C;\n",
              "      --hover-fill-color: #FFFFFF;\n",
              "      --disabled-bg-color: #3B4455;\n",
              "      --disabled-fill-color: #666;\n",
              "  }\n",
              "\n",
              "  .colab-df-quickchart {\n",
              "    background-color: var(--bg-color);\n",
              "    border: none;\n",
              "    border-radius: 50%;\n",
              "    cursor: pointer;\n",
              "    display: none;\n",
              "    fill: var(--fill-color);\n",
              "    height: 32px;\n",
              "    padding: 0;\n",
              "    width: 32px;\n",
              "  }\n",
              "\n",
              "  .colab-df-quickchart:hover {\n",
              "    background-color: var(--hover-bg-color);\n",
              "    box-shadow: 0 1px 2px rgba(60, 64, 67, 0.3), 0 1px 3px 1px rgba(60, 64, 67, 0.15);\n",
              "    fill: var(--button-hover-fill-color);\n",
              "  }\n",
              "\n",
              "  .colab-df-quickchart-complete:disabled,\n",
              "  .colab-df-quickchart-complete:disabled:hover {\n",
              "    background-color: var(--disabled-bg-color);\n",
              "    fill: var(--disabled-fill-color);\n",
              "    box-shadow: none;\n",
              "  }\n",
              "\n",
              "  .colab-df-spinner {\n",
              "    border: 2px solid var(--fill-color);\n",
              "    border-color: transparent;\n",
              "    border-bottom-color: var(--fill-color);\n",
              "    animation:\n",
              "      spin 1s steps(1) infinite;\n",
              "  }\n",
              "\n",
              "  @keyframes spin {\n",
              "    0% {\n",
              "      border-color: transparent;\n",
              "      border-bottom-color: var(--fill-color);\n",
              "      border-left-color: var(--fill-color);\n",
              "    }\n",
              "    20% {\n",
              "      border-color: transparent;\n",
              "      border-left-color: var(--fill-color);\n",
              "      border-top-color: var(--fill-color);\n",
              "    }\n",
              "    30% {\n",
              "      border-color: transparent;\n",
              "      border-left-color: var(--fill-color);\n",
              "      border-top-color: var(--fill-color);\n",
              "      border-right-color: var(--fill-color);\n",
              "    }\n",
              "    40% {\n",
              "      border-color: transparent;\n",
              "      border-right-color: var(--fill-color);\n",
              "      border-top-color: var(--fill-color);\n",
              "    }\n",
              "    60% {\n",
              "      border-color: transparent;\n",
              "      border-right-color: var(--fill-color);\n",
              "    }\n",
              "    80% {\n",
              "      border-color: transparent;\n",
              "      border-right-color: var(--fill-color);\n",
              "      border-bottom-color: var(--fill-color);\n",
              "    }\n",
              "    90% {\n",
              "      border-color: transparent;\n",
              "      border-bottom-color: var(--fill-color);\n",
              "    }\n",
              "  }\n",
              "</style>\n",
              "\n",
              "  <script>\n",
              "    async function quickchart(key) {\n",
              "      const quickchartButtonEl =\n",
              "        document.querySelector('#' + key + ' button');\n",
              "      quickchartButtonEl.disabled = true;  // To prevent multiple clicks.\n",
              "      quickchartButtonEl.classList.add('colab-df-spinner');\n",
              "      try {\n",
              "        const charts = await google.colab.kernel.invokeFunction(\n",
              "            'suggestCharts', [key], {});\n",
              "      } catch (error) {\n",
              "        console.error('Error during call to suggestCharts:', error);\n",
              "      }\n",
              "      quickchartButtonEl.classList.remove('colab-df-spinner');\n",
              "      quickchartButtonEl.classList.add('colab-df-quickchart-complete');\n",
              "    }\n",
              "    (() => {\n",
              "      let quickchartButtonEl =\n",
              "        document.querySelector('#df-98ebfa9a-bd21-4e95-b2b0-ad01c151f4b0 button');\n",
              "      quickchartButtonEl.style.display =\n",
              "        google.colab.kernel.accessAllowed ? 'block' : 'none';\n",
              "    })();\n",
              "  </script>\n",
              "</div>\n",
              "\n",
              "    </div>\n",
              "  </div>\n"
            ],
            "application/vnd.google.colaboratory.intrinsic+json": {
              "type": "dataframe",
              "variable_name": "df",
              "summary": "{\n  \"name\": \"df\",\n  \"rows\": 19,\n  \"fields\": [\n    {\n      \"column\": \"timepoint\",\n      \"properties\": {\n        \"dtype\": \"number\",\n        \"std\": 5,\n        \"min\": 0,\n        \"max\": 18,\n        \"num_unique_values\": 19,\n        \"samples\": [\n          0,\n          5,\n          11\n        ],\n        \"semantic_type\": \"\",\n        \"description\": \"\"\n      }\n    },\n    {\n      \"column\": \"signalcue\",\n      \"properties\": {\n        \"dtype\": \"number\",\n        \"std\": 0.0353927002255533,\n        \"min\": -0.05888780460536478,\n        \"max\": 0.06933785814120715,\n        \"num_unique_values\": 19,\n        \"samples\": [\n          -0.023165733227982144,\n          0.06933785814120715,\n          -0.04307210428404572\n        ],\n        \"semantic_type\": \"\",\n        \"description\": \"\"\n      }\n    },\n    {\n      \"column\": \"signalstim\",\n      \"properties\": {\n        \"dtype\": \"number\",\n        \"std\": 0.12854145988076918,\n        \"min\": -0.10407196230377856,\n        \"max\": 0.2829776265872857,\n        \"num_unique_values\": 19,\n        \"samples\": [\n          -0.024995076704409286,\n          0.26722071486300003,\n          -0.09285151423975714\n        ],\n        \"semantic_type\": \"\",\n        \"description\": \"\"\n      }\n    }\n  ]\n}"
            }
          },
          "metadata": {},
          "execution_count": 4
        }
      ]
    },
    {
      "cell_type": "code",
      "source": [
        "timepoint, signalcue, signalstim"
      ],
      "metadata": {
        "id": "G0QUTbN03bJ3",
        "outputId": "91cd630b-3e8c-4ed6-a14e-54611724e315",
        "colab": {
          "base_uri": "https://localhost:8080/"
        }
      },
      "execution_count": null,
      "outputs": [
        {
          "output_type": "execute_result",
          "data": {
            "text/plain": [
              "(array([ 0,  1,  2,  3,  4,  5,  6,  7,  8,  9, 10, 11, 12, 13, 14, 15, 16,\n",
              "        17, 18]),\n",
              " array([-0.02316573, -0.0282972 , -0.01548336,  0.02193657,  0.06130202,\n",
              "         0.06933786,  0.03948541, -0.00810473, -0.04491345, -0.0588878 ,\n",
              "        -0.05495722, -0.0430721 , -0.02901312, -0.01717896, -0.00922507,\n",
              "        -0.00551081, -0.00760664, -0.01018068, -0.01236656]),\n",
              " array([-0.02499508, -0.04045955, -0.02006203,  0.06122358,  0.17713074,\n",
              "         0.26722071,  0.28297763,  0.22141995,  0.11880749,  0.01906084,\n",
              "        -0.05312493, -0.09285151, -0.10407196, -0.09869668, -0.08364178,\n",
              "        -0.06819364, -0.0577949 , -0.05381386, -0.05453817]))"
            ]
          },
          "metadata": {},
          "execution_count": 5
        }
      ]
    },
    {
      "cell_type": "markdown",
      "source": [
        "Produza 4 gráficos empregando **matplotlib** e o modo **script layer** envolvendo as variáveis `df.timepoint`, `df.signalcue` e `df.signalstim` (ou se preferir `timepoint`, `signalcue` e `signalstim`) em uma mesma figura 8x6.\n",
        "\n",
        "Os gráficos da figura serão os seguintes:\n",
        "\n",
        "```\n",
        "(1)   (2)\n",
        "\n",
        "(3)   (4)\n",
        "```\n",
        "\n",
        "* (1) Gráfico dos sinais de repouso (`cue`) e estímulo (`stim`) no tempo. Inclua a legenda.\n",
        "* (2) Gráfico de distribuição dos sinais de repouso (`cue`).\n",
        "* (3) Gráfico do sinal de repouso (`cue`) no tempo.  \n",
        "* (2) Gráfico de distribuição acumulada dos sinais estímulo (`stim`). Veja o parâmetro `cumulative` da função do gráfico.\n",
        "\n",
        "Não deixe de incluir título e rótulos para os eixos em cada gráfico. Ao final a figura produzida deverá ter o seguinte aspecto:\n",
        "\n",
        "\n"
      ],
      "metadata": {
        "id": "eoFTrU697vyD"
      }
    },
    {
      "cell_type": "code",
      "source": [
        "# seu código\n"
      ],
      "metadata": {
        "colab": {
          "base_uri": "https://localhost:8080/",
          "height": 607
        },
        "id": "odCr0bzJoH0u",
        "outputId": "3077ef0c-5ceb-46d6-a12e-f247e84e2b7e"
      },
      "execution_count": null,
      "outputs": [
        {
          "output_type": "display_data",
          "data": {
            "text/plain": [
              "<Figure size 800x600 with 4 Axes>"
            ],
            "image/png": "[encoded data removed]"
          },
          "metadata": {}
        }
      ]
    },
    {
      "cell_type": "markdown",
      "source": [
        "# Exercício 3  \n",
        "\n",
        "Repita o exercício anterior com a forma **artist layer**.   "
      ],
      "metadata": {
        "id": "szpDWgi__6FH"
      }
    },
    {
      "cell_type": "code",
      "source": [
        "# seu código\n"
      ],
      "metadata": {
        "id": "IrOecEVOpNYv"
      },
      "execution_count": null,
      "outputs": []
    }
  ]
}