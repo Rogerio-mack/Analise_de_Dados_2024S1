{
  "nbformat": 4,
  "nbformat_minor": 0,
  "metadata": {
    "celltoolbar": "Edit Metadata",
    "colab": {
      "provenance": [],
      "include_colab_link": true
    },
    "kernelspec": {
      "display_name": "Python 3",
      "language": "python",
      "name": "python3"
    },
    "language_info": {
      "codemirror_mode": {
        "name": "ipython",
        "version": 3
      },
      "file_extension": ".py",
      "mimetype": "text/x-python",
      "name": "python",
      "nbconvert_exporter": "python",
      "pygments_lexer": "ipython3",
      "version": "3.6.13"
    }
  },
  "cells": [
    {
      "cell_type": "markdown",
      "metadata": {
        "id": "view-in-github",
        "colab_type": "text"
      },
      "source": [
        "<a href=\"https://colab.research.google.com/github/Rogerio-mack/Analise_de_Dados_2024S1/blob/main/Lab_Seaborn.ipynb\" target=\"_parent\"><img src=\"https://colab.research.google.com/assets/colab-badge.svg\" alt=\"Open In Colab\"/></a>"
      ]
    },
    {
      "cell_type": "markdown",
      "metadata": {
        "id": "J3LMBfpeHTwb"
      },
      "source": [
        "<head>\n",
        "  <meta name=\"author\" content=\"Rogério de Oliveira\">\n",
        "  <meta institution=\"author\" content=\"Universidade Presbiteriana Mackenzie\">\n",
        "</head>\n",
        "\n",
        "<img src=\"http://meusite.mackenzie.br/rogerio/mackenzie_logo/UPM.2_horizontal_vermelho.jpg\" width=300, align=\"right\">\n",
        "<!-- <h1 align=left><font size = 6, style=\"color:rgb(200,0,0)\"> optional title </font></h1> -->\n",
        "\n"
      ]
    },
    {
      "cell_type": "markdown",
      "source": [
        "# Lab Seaborn - Relações dos dados & Seaborn (scatter)\n",
        "\n",
        "Referências e Materiais úteis para este Lab:\n",
        "\n",
        "- Oliveira, R. (2022). [Visualizacao de Dados em Python](https://github.com/Rogerio-mack/Visualizacao-de-Dados-em-Python) ISBN: 978-65-5545-511-3. [Editora Mackenzie](https://www.mackenzie.br/editora/livro/n/a/i/visualizacao-de-dados-com-python), [Amazon](https://www.amazon.com.br/VISUALIZA%C3%87%C3%83O-DADOS-PYTHON-ROGERIO-OLIVEIRA/dp/655545511X) ou [Martins Fontes](https://www.martinsfontespaulista.com.br/visualizacao-de-dados-com-python-997336/p)\n",
        "<p>\n",
        "  <img src=\"https://github.com/Rogerio-mack/Visualizacao-de-Dados-em-Python/raw/main/figuras/capas/1.png\" width=\"30%\" align=\"left\"/>\n",
        "</p>\n",
        "\n",
        "<br>\n",
        "<br>\n",
        "<br>\n",
        "<br>\n",
        "<br>\n",
        "<br>\n",
        "<br>\n",
        "<br>\n",
        "<br>\n",
        "<br>\n",
        "<br>\n",
        "<br>\n",
        "<br>\n",
        "\n",
        "- **Capítulo 7. Relações.** Veja como empregar gráficos de dispersão com o `Matplotlib` e o `Seaborn`.\n",
        "\n",
        "- **Documentação do Seaborn**: https://seaborn.pydata.org/\n"
      ],
      "metadata": {
        "id": "YWnCDj4Hkf7Q"
      }
    },
    {
      "cell_type": "markdown",
      "source": [
        "# Basic imports"
      ],
      "metadata": {
        "id": "6AsPs0GIlyle"
      }
    },
    {
      "cell_type": "code",
      "metadata": {
        "id": "jf4DkEBpGdr4"
      },
      "source": [
        "import numpy as np\n",
        "import pandas as pd\n",
        "import matplotlib.pyplot as plt\n",
        "%matplotlib inline\n",
        "import seaborn as sns\n"
      ],
      "execution_count": null,
      "outputs": []
    },
    {
      "cell_type": "markdown",
      "metadata": {
        "id": "cM4Pp7kz65jH"
      },
      "source": [
        "# **Relações dos Dados**\n",
        "<hr>"
      ]
    },
    {
      "cell_type": "markdown",
      "source": [
        "# Quick start"
      ],
      "metadata": {
        "id": "V1SI7x3ARC7d"
      }
    },
    {
      "cell_type": "code",
      "source": [
        "df = sns.load_dataset(\"iris\")\n",
        "df.head()"
      ],
      "metadata": {
        "id": "wTSmm11p9Zr_",
        "outputId": "aa826ecf-6774-462b-b05e-6b22f349b9bd",
        "colab": {
          "base_uri": "https://localhost:8080/",
          "height": 206
        }
      },
      "execution_count": null,
      "outputs": [
        {
          "output_type": "execute_result",
          "data": {
            "text/plain": [
              "   sepal_length  sepal_width  petal_length  petal_width species\n",
              "0           5.1          3.5           1.4          0.2  setosa\n",
              "1           4.9          3.0           1.4          0.2  setosa\n",
              "2           4.7          3.2           1.3          0.2  setosa\n",
              "3           4.6          3.1           1.5          0.2  setosa\n",
              "4           5.0          3.6           1.4          0.2  setosa"
            ],
            "text/html": [
              "\n",
              "  <div id=\"df-f03dfa8b-b616-4df2-90d1-258ac522558e\">\n",
              "    <div class=\"colab-df-container\">\n",
              "      <div>\n",
              "<style scoped>\n",
              "    .dataframe tbody tr th:only-of-type {\n",
              "        vertical-align: middle;\n",
              "    }\n",
              "\n",
              "    .dataframe tbody tr th {\n",
              "        vertical-align: top;\n",
              "    }\n",
              "\n",
              "    .dataframe thead th {\n",
              "        text-align: right;\n",
              "    }\n",
              "</style>\n",
              "<table border=\"1\" class=\"dataframe\">\n",
              "  <thead>\n",
              "    <tr style=\"text-align: right;\">\n",
              "      <th></th>\n",
              "      <th>sepal_length</th>\n",
              "      <th>sepal_width</th>\n",
              "      <th>petal_length</th>\n",
              "      <th>petal_width</th>\n",
              "      <th>species</th>\n",
              "    </tr>\n",
              "  </thead>\n",
              "  <tbody>\n",
              "    <tr>\n",
              "      <th>0</th>\n",
              "      <td>5.1</td>\n",
              "      <td>3.5</td>\n",
              "      <td>1.4</td>\n",
              "      <td>0.2</td>\n",
              "      <td>setosa</td>\n",
              "    </tr>\n",
              "    <tr>\n",
              "      <th>1</th>\n",
              "      <td>4.9</td>\n",
              "      <td>3.0</td>\n",
              "      <td>1.4</td>\n",
              "      <td>0.2</td>\n",
              "      <td>setosa</td>\n",
              "    </tr>\n",
              "    <tr>\n",
              "      <th>2</th>\n",
              "      <td>4.7</td>\n",
              "      <td>3.2</td>\n",
              "      <td>1.3</td>\n",
              "      <td>0.2</td>\n",
              "      <td>setosa</td>\n",
              "    </tr>\n",
              "    <tr>\n",
              "      <th>3</th>\n",
              "      <td>4.6</td>\n",
              "      <td>3.1</td>\n",
              "      <td>1.5</td>\n",
              "      <td>0.2</td>\n",
              "      <td>setosa</td>\n",
              "    </tr>\n",
              "    <tr>\n",
              "      <th>4</th>\n",
              "      <td>5.0</td>\n",
              "      <td>3.6</td>\n",
              "      <td>1.4</td>\n",
              "      <td>0.2</td>\n",
              "      <td>setosa</td>\n",
              "    </tr>\n",
              "  </tbody>\n",
              "</table>\n",
              "</div>\n",
              "      <button class=\"colab-df-convert\" onclick=\"convertToInteractive('df-f03dfa8b-b616-4df2-90d1-258ac522558e')\"\n",
              "              title=\"Convert this dataframe to an interactive table.\"\n",
              "              style=\"display:none;\">\n",
              "        \n",
              "  <svg xmlns=\"http://www.w3.org/2000/svg\" height=\"24px\"viewBox=\"0 0 24 24\"\n",
              "       width=\"24px\">\n",
              "    <path d=\"M0 0h24v24H0V0z\" fill=\"none\"/>\n",
              "    <path d=\"M18.56 5.44l.94 2.06.94-2.06 2.06-.94-2.06-.94-.94-2.06-.94 2.06-2.06.94zm-11 1L8.5 8.5l.94-2.06 2.06-.94-2.06-.94L8.5 2.5l-.94 2.06-2.06.94zm10 10l.94 2.06.94-2.06 2.06-.94-2.06-.94-.94-2.06-.94 2.06-2.06.94z\"/><path d=\"M17.41 7.96l-1.37-1.37c-.4-.4-.92-.59-1.43-.59-.52 0-1.04.2-1.43.59L10.3 9.45l-7.72 7.72c-.78.78-.78 2.05 0 2.83L4 21.41c.39.39.9.59 1.41.59.51 0 1.02-.2 1.41-.59l7.78-7.78 2.81-2.81c.8-.78.8-2.07 0-2.86zM5.41 20L4 18.59l7.72-7.72 1.47 1.35L5.41 20z\"/>\n",
              "  </svg>\n",
              "      </button>\n",
              "      \n",
              "  <style>\n",
              "    .colab-df-container {\n",
              "      display:flex;\n",
              "      flex-wrap:wrap;\n",
              "      gap: 12px;\n",
              "    }\n",
              "\n",
              "    .colab-df-convert {\n",
              "      background-color: #E8F0FE;\n",
              "      border: none;\n",
              "      border-radius: 50%;\n",
              "      cursor: pointer;\n",
              "      display: none;\n",
              "      fill: #1967D2;\n",
              "      height: 32px;\n",
              "      padding: 0 0 0 0;\n",
              "      width: 32px;\n",
              "    }\n",
              "\n",
              "    .colab-df-convert:hover {\n",
              "      background-color: #E2EBFA;\n",
              "      box-shadow: 0px 1px 2px rgba(60, 64, 67, 0.3), 0px 1px 3px 1px rgba(60, 64, 67, 0.15);\n",
              "      fill: #174EA6;\n",
              "    }\n",
              "\n",
              "    [theme=dark] .colab-df-convert {\n",
              "      background-color: #3B4455;\n",
              "      fill: #D2E3FC;\n",
              "    }\n",
              "\n",
              "    [theme=dark] .colab-df-convert:hover {\n",
              "      background-color: #434B5C;\n",
              "      box-shadow: 0px 1px 3px 1px rgba(0, 0, 0, 0.15);\n",
              "      filter: drop-shadow(0px 1px 2px rgba(0, 0, 0, 0.3));\n",
              "      fill: #FFFFFF;\n",
              "    }\n",
              "  </style>\n",
              "\n",
              "      <script>\n",
              "        const buttonEl =\n",
              "          document.querySelector('#df-f03dfa8b-b616-4df2-90d1-258ac522558e button.colab-df-convert');\n",
              "        buttonEl.style.display =\n",
              "          google.colab.kernel.accessAllowed ? 'block' : 'none';\n",
              "\n",
              "        async function convertToInteractive(key) {\n",
              "          const element = document.querySelector('#df-f03dfa8b-b616-4df2-90d1-258ac522558e');\n",
              "          const dataTable =\n",
              "            await google.colab.kernel.invokeFunction('convertToInteractive',\n",
              "                                                     [key], {});\n",
              "          if (!dataTable) return;\n",
              "\n",
              "          const docLinkHtml = 'Like what you see? Visit the ' +\n",
              "            '<a target=\"_blank\" href=https://colab.research.google.com/notebooks/data_table.ipynb>data table notebook</a>'\n",
              "            + ' to learn more about interactive tables.';\n",
              "          element.innerHTML = '';\n",
              "          dataTable['output_type'] = 'display_data';\n",
              "          await google.colab.output.renderOutput(dataTable, element);\n",
              "          const docLink = document.createElement('div');\n",
              "          docLink.innerHTML = docLinkHtml;\n",
              "          element.appendChild(docLink);\n",
              "        }\n",
              "      </script>\n",
              "    </div>\n",
              "  </div>\n",
              "  "
            ]
          },
          "metadata": {},
          "execution_count": 13
        }
      ]
    },
    {
      "cell_type": "code",
      "source": [
        "plt.plot(df['petal_width'], df['petal_length'])\n",
        "plt.show()\n",
        "\n",
        "plt.scatter(df['petal_width'], df['petal_length'], sizes=(20,250),s= df['sepal_length'], alpha=0.6)\n",
        "plt.show()"
      ],
      "metadata": {
        "id": "tdxpPVpNPpxo",
        "outputId": "2365c651-4cd5-40c9-bda5-d5e3e620ff9b",
        "colab": {
          "base_uri": "https://localhost:8080/",
          "height": 513
        }
      },
      "execution_count": null,
      "outputs": [
        {
          "output_type": "display_data",
          "data": {
            "text/plain": [
              "<Figure size 432x288 with 1 Axes>"
            ],
            "image/png": "[encoded data removed]"
          },
          "metadata": {
            "needs_background": "light"
          }
        },
        {
          "output_type": "display_data",
          "data": {
            "text/plain": [
              "<Figure size 432x288 with 1 Axes>"
            ],
            "image/png": "[encoded data removed]"
          },
          "metadata": {
            "needs_background": "light"
          }
        }
      ]
    },
    {
      "cell_type": "code",
      "source": [
        "sns.lineplot(x=df['petal_width'],y=df['petal_length'])\n",
        "plt.show()\n",
        "\n",
        "sns.scatterplot(x='petal_width', y='petal_length', data=df, hue='species')\n",
        "plt.show()"
      ],
      "metadata": {
        "id": "ZapuLEE6QF8h",
        "outputId": "46bcd7b9-83dc-44db-fbee-f9da3ad9da3d",
        "colab": {
          "base_uri": "https://localhost:8080/",
          "height": 543
        }
      },
      "execution_count": null,
      "outputs": [
        {
          "output_type": "display_data",
          "data": {
            "text/plain": [
              "<Figure size 432x288 with 1 Axes>"
            ],
            "image/png": "[encoded data removed]"
          },
          "metadata": {
            "needs_background": "light"
          }
        },
        {
          "output_type": "display_data",
          "data": {
            "text/plain": [
              "<Figure size 432x288 with 1 Axes>"
            ],
            "image/png": "[encoded data removed]"
          },
          "metadata": {
            "needs_background": "light"
          }
        }
      ]
    },
    {
      "cell_type": "markdown",
      "source": [
        "# Exercícios"
      ],
      "metadata": {
        "id": "7Uns_h5VRHgn"
      }
    },
    {
      "cell_type": "code",
      "source": [
        "df = pd.read_csv('https://raw.githubusercontent.com/Rogerio-mack/Visualizacao-de-Dados-em-Python/main/data/gapminder_2015.csv')\n",
        "df.head()"
      ],
      "metadata": {
        "id": "YSi4MfIu95yr",
        "outputId": "35666734-d4df-481b-e86f-d8c35eb43a02",
        "colab": {
          "base_uri": "https://localhost:8080/",
          "height": 305
        }
      },
      "execution_count": null,
      "outputs": [
        {
          "output_type": "execute_result",
          "data": {
            "text/plain": [
              "  continent        country  year  demox_eiu  income_per_person  invest_%_gdp  \\\n",
              "0    Africa       Botswana  2015       78.7              15700          32.1   \n",
              "1    Africa   Burkina Faso  2015       47.0               1600          24.3   \n",
              "2    Africa  Cote d'Ivoire  2015       33.1               3230          20.1   \n",
              "3    Africa          Egypt  2015       31.8              10200          14.3   \n",
              "4    Africa          Kenya  2015       53.3               2800          21.5   \n",
              "\n",
              "   tax_%_gdp  gini_index  LifeExpect  HappyIdx  SchoolYears15_24  \\\n",
              "0       24.7        60.5        66.9     0.376              8.40   \n",
              "1       15.1        35.5        60.7     0.442              3.76   \n",
              "2       15.4        41.6        61.0     0.445              6.59   \n",
              "3       12.5        31.2        70.2     0.476             10.60   \n",
              "4       16.3        41.5        64.7     0.436              9.06   \n",
              "\n",
              "   VacineBelieve  ChildMortality  Co2Emissions   CPI  Population  \n",
              "0            NaN            40.7         2.560  63.0     2120000  \n",
              "1            NaN            86.8         0.182  38.0    18100000  \n",
              "2            NaN            90.0         0.405  32.0    23200000  \n",
              "3            NaN            23.6         2.370  36.0    92400000  \n",
              "4            NaN            46.3         0.341  25.0    47900000  "
            ],
            "text/html": [
              "\n",
              "  <div id=\"df-93e1dfa7-07e0-423f-9a67-127813a0936a\">\n",
              "    <div class=\"colab-df-container\">\n",
              "      <div>\n",
              "<style scoped>\n",
              "    .dataframe tbody tr th:only-of-type {\n",
              "        vertical-align: middle;\n",
              "    }\n",
              "\n",
              "    .dataframe tbody tr th {\n",
              "        vertical-align: top;\n",
              "    }\n",
              "\n",
              "    .dataframe thead th {\n",
              "        text-align: right;\n",
              "    }\n",
              "</style>\n",
              "<table border=\"1\" class=\"dataframe\">\n",
              "  <thead>\n",
              "    <tr style=\"text-align: right;\">\n",
              "      <th></th>\n",
              "      <th>continent</th>\n",
              "      <th>country</th>\n",
              "      <th>year</th>\n",
              "      <th>demox_eiu</th>\n",
              "      <th>income_per_person</th>\n",
              "      <th>invest_%_gdp</th>\n",
              "      <th>tax_%_gdp</th>\n",
              "      <th>gini_index</th>\n",
              "      <th>LifeExpect</th>\n",
              "      <th>HappyIdx</th>\n",
              "      <th>SchoolYears15_24</th>\n",
              "      <th>VacineBelieve</th>\n",
              "      <th>ChildMortality</th>\n",
              "      <th>Co2Emissions</th>\n",
              "      <th>CPI</th>\n",
              "      <th>Population</th>\n",
              "    </tr>\n",
              "  </thead>\n",
              "  <tbody>\n",
              "    <tr>\n",
              "      <th>0</th>\n",
              "      <td>Africa</td>\n",
              "      <td>Botswana</td>\n",
              "      <td>2015</td>\n",
              "      <td>78.7</td>\n",
              "      <td>15700</td>\n",
              "      <td>32.1</td>\n",
              "      <td>24.7</td>\n",
              "      <td>60.5</td>\n",
              "      <td>66.9</td>\n",
              "      <td>0.376</td>\n",
              "      <td>8.40</td>\n",
              "      <td>NaN</td>\n",
              "      <td>40.7</td>\n",
              "      <td>2.560</td>\n",
              "      <td>63.0</td>\n",
              "      <td>2120000</td>\n",
              "    </tr>\n",
              "    <tr>\n",
              "      <th>1</th>\n",
              "      <td>Africa</td>\n",
              "      <td>Burkina Faso</td>\n",
              "      <td>2015</td>\n",
              "      <td>47.0</td>\n",
              "      <td>1600</td>\n",
              "      <td>24.3</td>\n",
              "      <td>15.1</td>\n",
              "      <td>35.5</td>\n",
              "      <td>60.7</td>\n",
              "      <td>0.442</td>\n",
              "      <td>3.76</td>\n",
              "      <td>NaN</td>\n",
              "      <td>86.8</td>\n",
              "      <td>0.182</td>\n",
              "      <td>38.0</td>\n",
              "      <td>18100000</td>\n",
              "    </tr>\n",
              "    <tr>\n",
              "      <th>2</th>\n",
              "      <td>Africa</td>\n",
              "      <td>Cote d'Ivoire</td>\n",
              "      <td>2015</td>\n",
              "      <td>33.1</td>\n",
              "      <td>3230</td>\n",
              "      <td>20.1</td>\n",
              "      <td>15.4</td>\n",
              "      <td>41.6</td>\n",
              "      <td>61.0</td>\n",
              "      <td>0.445</td>\n",
              "      <td>6.59</td>\n",
              "      <td>NaN</td>\n",
              "      <td>90.0</td>\n",
              "      <td>0.405</td>\n",
              "      <td>32.0</td>\n",
              "      <td>23200000</td>\n",
              "    </tr>\n",
              "    <tr>\n",
              "      <th>3</th>\n",
              "      <td>Africa</td>\n",
              "      <td>Egypt</td>\n",
              "      <td>2015</td>\n",
              "      <td>31.8</td>\n",
              "      <td>10200</td>\n",
              "      <td>14.3</td>\n",
              "      <td>12.5</td>\n",
              "      <td>31.2</td>\n",
              "      <td>70.2</td>\n",
              "      <td>0.476</td>\n",
              "      <td>10.60</td>\n",
              "      <td>NaN</td>\n",
              "      <td>23.6</td>\n",
              "      <td>2.370</td>\n",
              "      <td>36.0</td>\n",
              "      <td>92400000</td>\n",
              "    </tr>\n",
              "    <tr>\n",
              "      <th>4</th>\n",
              "      <td>Africa</td>\n",
              "      <td>Kenya</td>\n",
              "      <td>2015</td>\n",
              "      <td>53.3</td>\n",
              "      <td>2800</td>\n",
              "      <td>21.5</td>\n",
              "      <td>16.3</td>\n",
              "      <td>41.5</td>\n",
              "      <td>64.7</td>\n",
              "      <td>0.436</td>\n",
              "      <td>9.06</td>\n",
              "      <td>NaN</td>\n",
              "      <td>46.3</td>\n",
              "      <td>0.341</td>\n",
              "      <td>25.0</td>\n",
              "      <td>47900000</td>\n",
              "    </tr>\n",
              "  </tbody>\n",
              "</table>\n",
              "</div>\n",
              "      <button class=\"colab-df-convert\" onclick=\"convertToInteractive('df-93e1dfa7-07e0-423f-9a67-127813a0936a')\"\n",
              "              title=\"Convert this dataframe to an interactive table.\"\n",
              "              style=\"display:none;\">\n",
              "        \n",
              "  <svg xmlns=\"http://www.w3.org/2000/svg\" height=\"24px\"viewBox=\"0 0 24 24\"\n",
              "       width=\"24px\">\n",
              "    <path d=\"M0 0h24v24H0V0z\" fill=\"none\"/>\n",
              "    <path d=\"M18.56 5.44l.94 2.06.94-2.06 2.06-.94-2.06-.94-.94-2.06-.94 2.06-2.06.94zm-11 1L8.5 8.5l.94-2.06 2.06-.94-2.06-.94L8.5 2.5l-.94 2.06-2.06.94zm10 10l.94 2.06.94-2.06 2.06-.94-2.06-.94-.94-2.06-.94 2.06-2.06.94z\"/><path d=\"M17.41 7.96l-1.37-1.37c-.4-.4-.92-.59-1.43-.59-.52 0-1.04.2-1.43.59L10.3 9.45l-7.72 7.72c-.78.78-.78 2.05 0 2.83L4 21.41c.39.39.9.59 1.41.59.51 0 1.02-.2 1.41-.59l7.78-7.78 2.81-2.81c.8-.78.8-2.07 0-2.86zM5.41 20L4 18.59l7.72-7.72 1.47 1.35L5.41 20z\"/>\n",
              "  </svg>\n",
              "      </button>\n",
              "      \n",
              "  <style>\n",
              "    .colab-df-container {\n",
              "      display:flex;\n",
              "      flex-wrap:wrap;\n",
              "      gap: 12px;\n",
              "    }\n",
              "\n",
              "    .colab-df-convert {\n",
              "      background-color: #E8F0FE;\n",
              "      border: none;\n",
              "      border-radius: 50%;\n",
              "      cursor: pointer;\n",
              "      display: none;\n",
              "      fill: #1967D2;\n",
              "      height: 32px;\n",
              "      padding: 0 0 0 0;\n",
              "      width: 32px;\n",
              "    }\n",
              "\n",
              "    .colab-df-convert:hover {\n",
              "      background-color: #E2EBFA;\n",
              "      box-shadow: 0px 1px 2px rgba(60, 64, 67, 0.3), 0px 1px 3px 1px rgba(60, 64, 67, 0.15);\n",
              "      fill: #174EA6;\n",
              "    }\n",
              "\n",
              "    [theme=dark] .colab-df-convert {\n",
              "      background-color: #3B4455;\n",
              "      fill: #D2E3FC;\n",
              "    }\n",
              "\n",
              "    [theme=dark] .colab-df-convert:hover {\n",
              "      background-color: #434B5C;\n",
              "      box-shadow: 0px 1px 3px 1px rgba(0, 0, 0, 0.15);\n",
              "      filter: drop-shadow(0px 1px 2px rgba(0, 0, 0, 0.3));\n",
              "      fill: #FFFFFF;\n",
              "    }\n",
              "  </style>\n",
              "\n",
              "      <script>\n",
              "        const buttonEl =\n",
              "          document.querySelector('#df-93e1dfa7-07e0-423f-9a67-127813a0936a button.colab-df-convert');\n",
              "        buttonEl.style.display =\n",
              "          google.colab.kernel.accessAllowed ? 'block' : 'none';\n",
              "\n",
              "        async function convertToInteractive(key) {\n",
              "          const element = document.querySelector('#df-93e1dfa7-07e0-423f-9a67-127813a0936a');\n",
              "          const dataTable =\n",
              "            await google.colab.kernel.invokeFunction('convertToInteractive',\n",
              "                                                     [key], {});\n",
              "          if (!dataTable) return;\n",
              "\n",
              "          const docLinkHtml = 'Like what you see? Visit the ' +\n",
              "            '<a target=\"_blank\" href=https://colab.research.google.com/notebooks/data_table.ipynb>data table notebook</a>'\n",
              "            + ' to learn more about interactive tables.';\n",
              "          element.innerHTML = '';\n",
              "          dataTable['output_type'] = 'display_data';\n",
              "          await google.colab.output.renderOutput(dataTable, element);\n",
              "          const docLink = document.createElement('div');\n",
              "          docLink.innerHTML = docLinkHtml;\n",
              "          element.appendChild(docLink);\n",
              "        }\n",
              "      </script>\n",
              "    </div>\n",
              "  </div>\n",
              "  "
            ]
          },
          "metadata": {},
          "execution_count": 16
        }
      ]
    },
    {
      "cell_type": "markdown",
      "source": [
        "# Exercício 1 (`plt.scatter`)\n",
        "\n",
        "Faça uma figura com 3 gráficos envolvendo as variáveis\n",
        "```\n",
        "df['income_per_person'], df['LifeExpect']\n",
        "```\n",
        "\n",
        "1. Um plot de linha com o `Matplotlib`\n",
        "2. Um scatter plot do `Matplotlib`\n",
        "3. Um scatter plot do `Matplotlib` incluindo a dimensão dos dados `df['HappyIdx']` no tamanho dos pontos do gráfico de dispersão\n",
        "\n",
        "Você pode empregar o modo `script layer` ou `artist layer`, como achar melhor.\n"
      ],
      "metadata": {
        "id": "ShZh6LqbNVam"
      }
    },
    {
      "cell_type": "markdown",
      "source": [
        "# Exercício 2 (`sns.lineplot`, `sns.scatterplot`)\n",
        "\n",
        "Faça uma figura com 2 gráficos envolvendo as variáveis\n",
        "```\n",
        "df['income_per_person'], df['LifeExpect']\n",
        "```\n",
        "\n",
        "1. Um plot de linha com o `Seaborn`\n",
        "2. Um scatter plot do `Seaborn`\n",
        "\n",
        "Você pode empregar o modo `script layer` ou `artist layer`, como achar melhor.\n"
      ],
      "metadata": {
        "id": "461K8R03OlNZ"
      }
    },
    {
      "cell_type": "markdown",
      "source": [
        "# Exercício 3 (`sns.scatterplot`)\n",
        "\n",
        "Altere o segundo gráfico do exercício anterior para produzir um gráfico de dispersão incluindo a dimensão `df['continent']` dos dados (empregue o `Seaborn`)."
      ],
      "metadata": {
        "id": "VWQlXaN3PA55"
      }
    }
  ]
}