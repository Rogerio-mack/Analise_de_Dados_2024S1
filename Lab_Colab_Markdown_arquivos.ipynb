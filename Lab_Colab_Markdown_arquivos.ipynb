{
  "nbformat": 4,
  "nbformat_minor": 0,
  "metadata": {
    "colab": {
      "provenance": [],
      "authorship_tag": "ABX9TyN1OihRms1WiGCK4C5KZPIH",
      "include_colab_link": true
    },
    "kernelspec": {
      "name": "python3",
      "display_name": "Python 3"
    },
    "language_info": {
      "name": "python"
    }
  },
  "cells": [
    {
      "cell_type": "markdown",
      "metadata": {
        "id": "view-in-github",
        "colab_type": "text"
      },
      "source": [
        "<a href=\"https://colab.research.google.com/github/Rogerio-mack/Analise_de_Dados_2024S1/blob/main/Lab_Colab_Markdown_arquivos.ipynb\" target=\"_parent\"><img src=\"https://colab.research.google.com/assets/colab-badge.svg\" alt=\"Open In Colab\"/></a>"
      ]
    },
    {
      "cell_type": "markdown",
      "source": [
        "<head>\n",
        "  <meta name=\"author\" content=\"Rogério de Oliveira\">\n",
        "  <meta institution=\"author\" content=\"Universidade Presbiteriana Mackenzie\">\n",
        "</head>\n",
        "\n",
        "<img src=\"http://meusite.mackenzie.br/rogerio/mackenzie_logo/UPM.2_horizontal_vermelho.jpg\" width=300, align=\"right\">\n"
      ],
      "metadata": {
        "id": "38WSrvhYvBmD"
      }
    },
    {
      "cell_type": "markdown",
      "source": [
        "# Lab: Colab, Markdown e acessando arquivos\n",
        "\n",
        "Referências e Materiais úteis para este Lab:\n",
        "\n",
        "1. [Colab](https://colab.research.google.com/), ou veja aqui como trabalhar com notebooks o Colab:\n",
        "- [Visão geral do Colaboratory](/notebooks/basic_features_overview.ipynb)\n",
        "- [Guia sobre Markdown](/notebooks/markdown_guide.ipynb)\n",
        "- [Carregar dados: Drive, Planilhas e Google Cloud Storage](/notebooks/io.ipynb)\n",
        "2. [w3schools](https://www.w3schools.com/python/python_file_open.asp), veja aqui como ler um arquivo .txt com `Python`\n",
        "\n",
        "<br>\n",
        "\n",
        "Para saber mais:\n",
        "- [Anaconda](https://www.anaconda.com/products/distribution), para uma distribuição local de um ambiente completo `Python` incluindo Jupyter notebooks.\n",
        "- [Formulários interativos](/notebooks/forms.ipynb)\n",
        "- [Widgets interativos](/notebooks/widgets.ipynb)\n",
        "\n",
        "\n",
        "---\n",
        "\n"
      ],
      "metadata": {
        "id": "dEyV_GqcqtL1"
      }
    },
    {
      "cell_type": "markdown",
      "source": [
        "# Exercício 1\n",
        "Empregue a barra de ferramentas do editor de células de texto. Ela fornece um sumário dos principais comandos de edição Markdown. Experimente diferentes níveis de título, como marcar expressões e palavras com negrito e itálico, como inserir linhas de código no texto e fórmulas matemáticas, como adicionar links, imagens e listas, inserir recuo no texto etc.\n"
      ],
      "metadata": {
        "id": "7xNocrH8qwCT"
      }
    },
    {
      "cell_type": "markdown",
      "source": [
        "# Exercício 2"
      ],
      "metadata": {
        "id": "kktK0oXC1TWC"
      }
    },
    {
      "cell_type": "markdown",
      "source": [
        "a) Crie um arquivo `demo.txt` com uma mensagem texto em sua máquina local."
      ],
      "metadata": {
        "id": "MZ03CQY61dO8"
      }
    },
    {
      "cell_type": "markdown",
      "source": [
        "b) Empregue a API do Google Colab para fazer o upload do arquivo `demo.txt` no Colab e crie um programa `Python` que lê este arquivo no Colab."
      ],
      "metadata": {
        "id": "CpbJZyaL1zbg"
      }
    },
    {
      "cell_type": "markdown",
      "source": [
        "c) Repita o exercício anterior lendo agora o arquivo `demo.txt` de seu Google Drive. Para isso, salve o arquivo `demo.txt` no seu Google Drive e empregue a API do Google Colab para conectar o Google Drive ao seu Colab.  "
      ],
      "metadata": {
        "id": "nH-p54o82ddG"
      }
    }
  ]
}